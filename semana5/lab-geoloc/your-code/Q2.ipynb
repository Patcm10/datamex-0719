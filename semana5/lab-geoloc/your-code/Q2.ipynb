{
 "cells": [
  {
   "cell_type": "markdown",
   "metadata": {},
   "source": [
    "# Q2\n",
    "\n",
    "En esta parte, la tarea consiste en llamar a MongoDB para realizar geoqueries y representar los datos geoespaciales con folium, mostrando en un mapa la geolocalizacion de la nueva oficina."
   ]
  },
  {
   "cell_type": "code",
   "execution_count": 1,
   "metadata": {},
   "outputs": [],
   "source": [
    "# Tu codigo aqui\n",
    "from pymongo import MongoClient,GEOSPHERE\n",
    "import folium\n",
    "from bson.son import SON\n",
    "import pandas as pd"
   ]
  },
  {
   "cell_type": "code",
   "execution_count": 13,
   "metadata": {},
   "outputs": [],
   "source": [
    "client = MongoClient('mongodb://localhost:27017/')\n",
    "db = client.db_geoloc\n",
    "colec = db.geop"
   ]
  },
  {
   "cell_type": "code",
   "execution_count": 15,
   "metadata": {},
   "outputs": [],
   "source": [
    "colec.insert_many([loads(one) for one in open('geop.json','r')][0]);"
   ]
  },
  {
   "cell_type": "code",
   "execution_count": null,
   "metadata": {},
   "outputs": [],
   "source": [
    "df = pd.read_json('geop.json')\n",
    "df"
   ]
  },
  {
   "cell_type": "code",
   "execution_count": null,
   "metadata": {},
   "outputs": [],
   "source": [
    "db.geop.create_index([('Geolocation', pymongo.GEOSPHERE)])"
   ]
  },
  {
   "cell_type": "code",
   "execution_count": 8,
   "metadata": {},
   "outputs": [],
   "source": [
    "def findNear(location, ratio=2000):\n",
    "    return colec.find(\n",
    "                        {'Geolocation':\n",
    "                             {'$near':{'$geometry':location, '$maxDistance':ratio}}\n",
    "                        }\n",
    "                        )\n",
    "df['nearest'] = df['Geolocation'].apply(lambda x: list(findNear(x)))"
   ]
  },
  {
   "cell_type": "code",
   "execution_count": 11,
   "metadata": {},
   "outputs": [],
   "source": [
    "puntos = folium.Map([41.109534,-73.72399],tiles='Stamen Toner', zoom_start=10) \n",
    "puntos"
   ]
  },
  {
   "cell_type": "code",
   "execution_count": null,
   "metadata": {},
   "outputs": [],
   "source": [
    "for p in df.index:\n",
    "    folium.Marker([df.loc[p,'latitude'], df.loc[p,'longitude']],icon=folium.Icon(icon='cloud'),\n",
    "                popup=df.loc[p,'name']).add_to(points)"
   ]
  },
  {
   "cell_type": "code",
   "execution_count": null,
   "metadata": {},
   "outputs": [],
   "source": [
    "puntos"
   ]
  },
  {
   "cell_type": "code",
   "execution_count": null,
   "metadata": {},
   "outputs": [],
   "source": []
  }
 ],
 "metadata": {
  "kernelspec": {
   "display_name": "Python 3",
   "language": "python",
   "name": "python3"
  },
  "language_info": {
   "codemirror_mode": {
    "name": "ipython",
    "version": 3
   },
   "file_extension": ".py",
   "mimetype": "text/x-python",
   "name": "python",
   "nbconvert_exporter": "python",
   "pygments_lexer": "ipython3",
   "version": "3.7.3"
  }
 },
 "nbformat": 4,
 "nbformat_minor": 2
}
