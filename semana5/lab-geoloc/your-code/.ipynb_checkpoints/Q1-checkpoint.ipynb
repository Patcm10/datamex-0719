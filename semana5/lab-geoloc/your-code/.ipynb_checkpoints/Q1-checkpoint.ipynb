{
 "cells": [
  {
   "cell_type": "markdown",
   "metadata": {},
   "source": [
    "# Q1\n",
    "\n",
    "El primer paso es seleccionar lo datos desde MongoDB, pasarlos a un dataframe, limpiarlos y guardar las seleccion de datos en un archivo json para volver a llevarlos a MongoDB."
   ]
  },
  {
   "cell_type": "code",
   "execution_count": 23,
   "metadata": {},
   "outputs": [],
   "source": [
    "# Tu codigo aqui\n",
    "import pymongo\n",
    "import pandas as pd"
   ]
  },
  {
   "cell_type": "code",
   "execution_count": 44,
   "metadata": {},
   "outputs": [],
   "source": [
    "# Tu codigo aqui\n",
    "cliente=pymongo.MongoClient('mongodb://localhost:27017/')\n",
    "db = cliente.db_companies\n",
    "colec = db.companies"
   ]
  },
  {
   "cell_type": "code",
   "execution_count": 45,
   "metadata": {},
   "outputs": [],
   "source": [
    "categories = list(colec.find({},{'category_code':1,'_id':0}))"
   ]
  },
  {
   "cell_type": "code",
   "execution_count": 46,
   "metadata": {},
   "outputs": [
    {
     "data": {
      "text/plain": [
       "set()"
      ]
     },
     "execution_count": 46,
     "metadata": {},
     "output_type": "execute_result"
    }
   ],
   "source": [
    "set(list(map(lambda x:list(x.values())[0],categories)))"
   ]
  },
  {
   "cell_type": "code",
   "execution_count": 47,
   "metadata": {},
   "outputs": [],
   "source": [
    "comp= list(colec.find({'$and':[\n",
    "                          {'$or':[{\n",
    "                          'category_code':'software'},\n",
    "                          {'category_code':'games_video'},\n",
    "                          {'category_code':'web'},\n",
    "                          {'category_code':'ecommerce'},\n",
    "                          {'category_code':'mobile'},\n",
    "                          {'category_code':'photo_video'},\n",
    "                          {'category_code':'network_hosting'}\n",
    "                          ]},\n",
    "                  {'number_of_employees':{'$gt':0}},\n",
    "                  {'offices':{'$ne':[]}},\n",
    "                  {'offices.latitude':{'$ne':[]}},\n",
    "                  {'offices.longitude':{'$ne':[]}},\n",
    "                  {'offices.latitude':{'$ne':None}},\n",
    "                  {'offices.longitude':{'$ne':None}},\n",
    "                  {'deadpooled_year':None},\n",
    "                  {'number_of_employees':{'$ne':None}},\n",
    "                  {'total_money_raised':{'$ne':None}}\n",
    "                    ]},\n",
    "                    {'_id':0,'name':1,'number_of_employees':1,'offices':1}\n",
    "                    ).sort('number_of_employees',-1))"
   ]
  },
  {
   "cell_type": "code",
   "execution_count": 54,
   "metadata": {},
   "outputs": [],
   "source": [
    "#print(f'Whe are considering {len(comp)} offices')"
   ]
  },
  {
   "cell_type": "code",
   "execution_count": 56,
   "metadata": {},
   "outputs": [],
   "source": [
    "df1 = pd.DataFrame(comp).drop('offices', axis = 1)\n",
    "df1.head()"
   ]
  },
  {
   "cell_type": "code",
   "execution_count": 57,
   "metadata": {},
   "outputs": [],
   "source": [
    "from pandas.io.json import json_normalize\n",
    "\n",
    "offices = json_normalize(comp,'offices')\n",
    "offices.head()"
   ]
  },
  {
   "cell_type": "code",
   "execution_count": 58,
   "metadata": {},
   "outputs": [],
   "source": [
    "df2 = pd.DataFrame(offices)\n",
    "df2.head()"
   ]
  },
  {
   "cell_type": "code",
   "execution_count": 59,
   "metadata": {},
   "outputs": [],
   "source": [
    "final_df = pd.concat([df1, df2], axis=1, join='inner')\n",
    "final_df['Geolocation'] = final_df.apply(lambda final_df:{'type':'Point', 'coordinates':[final_df.longitude, final_df.latitude]}, axis=1)\n",
    "final_df.head()"
   ]
  },
  {
   "cell_type": "code",
   "execution_count": 60,
   "metadata": {},
   "outputs": [],
   "source": [
    "final_df.to_json('geop.json', orient='records')"
   ]
  },
  {
   "cell_type": "code",
   "execution_count": null,
   "metadata": {},
   "outputs": [],
   "source": []
  }
 ],
 "metadata": {
  "kernelspec": {
   "display_name": "Python 3",
   "language": "python",
   "name": "python3"
  },
  "language_info": {
   "codemirror_mode": {
    "name": "ipython",
    "version": 3
   },
   "file_extension": ".py",
   "mimetype": "text/x-python",
   "name": "python",
   "nbconvert_exporter": "python",
   "pygments_lexer": "ipython3",
   "version": "3.7.3"
  }
 },
 "nbformat": 4,
 "nbformat_minor": 2
}
